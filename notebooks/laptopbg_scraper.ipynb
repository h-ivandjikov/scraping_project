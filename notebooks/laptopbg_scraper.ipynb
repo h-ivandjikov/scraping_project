{
 "cells": [
  {
   "cell_type": "markdown",
   "id": "39c801a9-4688-4f01-a433-aaf922aac41f",
   "metadata": {},
   "source": [
    "# *Скрейпване на laptopbg*"
   ]
  },
  {
   "cell_type": "markdown",
   "id": "012052af-cc94-4432-8e44-7f2f1a477c99",
   "metadata": {},
   "source": [
    "### *Нужни библиотеки*"
   ]
  },
  {
   "cell_type": "code",
   "execution_count": 1,
   "id": "25957633-7cf9-4a48-a912-4e8380eee9ef",
   "metadata": {},
   "outputs": [],
   "source": [
    "import pandas as pd\n",
    "import requests\n",
    "from bs4 import BeautifulSoup"
   ]
  },
  {
   "cell_type": "markdown",
   "id": "bf30a1cb-a924-407c-8c62-3e57ef65fd4f",
   "metadata": {},
   "source": [
    "### *Построяване на първоначалния Soup object*"
   ]
  },
  {
   "cell_type": "code",
   "execution_count": 2,
   "id": "09f55f61-8dd8-4cfe-8f41-97a46180f3a3",
   "metadata": {},
   "outputs": [],
   "source": [
    "base_url = 'https://laptop.bg/desktop_video_cards-all'\n",
    "headers = {'User-Agent' : \"Mozilla/5.0 (Windows NT 10.0; Win64; x64)\"}\n",
    "response = requests.get(base_url, headers = headers)\n",
    "soup = BeautifulSoup(response.content, 'lxml')"
   ]
  },
  {
   "cell_type": "markdown",
   "id": "f25d73d9-90ca-42b4-b499-f36988b299b0",
   "metadata": {},
   "source": [
    "### *Вземане на броя на страниците, които ще скрейпваме*"
   ]
  },
  {
   "cell_type": "code",
   "execution_count": 3,
   "id": "75e7556b-e855-43b8-82aa-699ed1bba404",
   "metadata": {},
   "outputs": [
    {
     "name": "stdout",
     "output_type": "stream",
     "text": [
      "7\n"
     ]
    }
   ],
   "source": [
    "pages_div = soup.find('div', class_ = 'pagination')\n",
    "num_pages = pages_div.contents[-2].get_text()\n",
    "pages = int(num_pages)\n",
    "print(pages)"
   ]
  },
  {
   "cell_type": "markdown",
   "id": "0137a3c3-5c7a-4cab-987c-e572e8f66039",
   "metadata": {},
   "source": [
    "### *Скрейпване на всички страници и записване на информацията в list*"
   ]
  },
  {
   "cell_type": "code",
   "execution_count": 4,
   "id": "98dffaa2-e524-4e55-b34a-0ac163ef8bb4",
   "metadata": {},
   "outputs": [],
   "source": [
    "product_data = []\n",
    "for num in range(1, pages+1):\n",
    "    target_url = f'{base_url}?page={num}'\n",
    "    response = requests.get(target_url, headers = headers)\n",
    "    soup = BeautifulSoup(response.content, 'lxml')\n",
    "    article = soup.find_all('article', itemtype = 'http://schema.org/product')\n",
    "    for art in article:\n",
    "        sku = art.find('meta', itemprop = 'sku').get('content')\n",
    "        div_price = art.find('div', class_ = 'price-container')\n",
    "        price = div_price.find('span', itemprop = 'price').get_text()\n",
    "        product_data.append({\n",
    "            'SKU' : sku,\n",
    "            'Price_laptopbg' : price\n",
    "        })"
   ]
  },
  {
   "cell_type": "markdown",
   "id": "492299e6-8a25-4405-8552-75f34937b4c5",
   "metadata": {},
   "source": [
    "### Създаване на DataFrame от данните"
   ]
  },
  {
   "cell_type": "code",
   "execution_count": 5,
   "id": "f554916d-23df-41dd-925d-c2a0503d4cea",
   "metadata": {},
   "outputs": [
    {
     "data": {
      "text/html": [
       "<div>\n",
       "<style scoped>\n",
       "    .dataframe tbody tr th:only-of-type {\n",
       "        vertical-align: middle;\n",
       "    }\n",
       "\n",
       "    .dataframe tbody tr th {\n",
       "        vertical-align: top;\n",
       "    }\n",
       "\n",
       "    .dataframe thead th {\n",
       "        text-align: right;\n",
       "    }\n",
       "</style>\n",
       "<table border=\"1\" class=\"dataframe\">\n",
       "  <thead>\n",
       "    <tr style=\"text-align: right;\">\n",
       "      <th></th>\n",
       "      <th>SKU</th>\n",
       "      <th>Price_laptopbg</th>\n",
       "    </tr>\n",
       "  </thead>\n",
       "  <tbody>\n",
       "    <tr>\n",
       "      <th>0</th>\n",
       "      <td>RTX_3050_VENTUS_2X_XS_8G_OC</td>\n",
       "      <td>449</td>\n",
       "    </tr>\n",
       "    <tr>\n",
       "      <th>1</th>\n",
       "      <td>RX6600 CLD 8G</td>\n",
       "      <td>449</td>\n",
       "    </tr>\n",
       "    <tr>\n",
       "      <th>2</th>\n",
       "      <td>ASR-VC-RX6600-CLW-8G</td>\n",
       "      <td>535</td>\n",
       "    </tr>\n",
       "    <tr>\n",
       "      <th>3</th>\n",
       "      <td>RTX_3060_VENTUS_2X_12G_OC</td>\n",
       "      <td>619</td>\n",
       "    </tr>\n",
       "    <tr>\n",
       "      <th>4</th>\n",
       "      <td>RTX_4060_VENTUS_2X_BLACK_8G_OC</td>\n",
       "      <td>639</td>\n",
       "    </tr>\n",
       "    <tr>\n",
       "      <th>5</th>\n",
       "      <td>B580 SL 12GO</td>\n",
       "      <td>639</td>\n",
       "    </tr>\n",
       "    <tr>\n",
       "      <th>6</th>\n",
       "      <td>RTX_4060_VENTUS_2X_WHITE_8G_OC</td>\n",
       "      <td>645</td>\n",
       "    </tr>\n",
       "    <tr>\n",
       "      <th>7</th>\n",
       "      <td>ASR-VC-RX7600-SL-8GO</td>\n",
       "      <td>649</td>\n",
       "    </tr>\n",
       "    <tr>\n",
       "      <th>8</th>\n",
       "      <td>90YV0JC7-M0NA00</td>\n",
       "      <td>659</td>\n",
       "    </tr>\n",
       "    <tr>\n",
       "      <th>9</th>\n",
       "      <td>G5060-8V2CW</td>\n",
       "      <td>719</td>\n",
       "    </tr>\n",
       "  </tbody>\n",
       "</table>\n",
       "</div>"
      ],
      "text/plain": [
       "                              SKU Price_laptopbg\n",
       "0     RTX_3050_VENTUS_2X_XS_8G_OC            449\n",
       "1                   RX6600 CLD 8G            449\n",
       "2            ASR-VC-RX6600-CLW-8G            535\n",
       "3       RTX_3060_VENTUS_2X_12G_OC            619\n",
       "4  RTX_4060_VENTUS_2X_BLACK_8G_OC            639\n",
       "5                    B580 SL 12GO            639\n",
       "6  RTX_4060_VENTUS_2X_WHITE_8G_OC            645\n",
       "7            ASR-VC-RX7600-SL-8GO            649\n",
       "8                 90YV0JC7-M0NA00            659\n",
       "9                     G5060-8V2CW            719"
      ]
     },
     "execution_count": 5,
     "metadata": {},
     "output_type": "execute_result"
    }
   ],
   "source": [
    "df = pd.DataFrame(product_data)\n",
    "df.head(10)"
   ]
  },
  {
   "cell_type": "markdown",
   "id": "1e1d8cb4-6fe9-411a-a33e-cabaa516b4ac",
   "metadata": {},
   "source": [
    "### *Записване на данните в .csv формат*"
   ]
  },
  {
   "cell_type": "code",
   "execution_count": 6,
   "id": "a275488a-7954-49d3-89e0-6157ede6f22b",
   "metadata": {},
   "outputs": [],
   "source": [
    "df.to_csv('laptopbg_gpu_sku_prices.csv', index = False)"
   ]
  }
 ],
 "metadata": {
  "kernelspec": {
   "display_name": "Python [conda env:base] *",
   "language": "python",
   "name": "conda-base-py"
  },
  "language_info": {
   "codemirror_mode": {
    "name": "ipython",
    "version": 3
   },
   "file_extension": ".py",
   "mimetype": "text/x-python",
   "name": "python",
   "nbconvert_exporter": "python",
   "pygments_lexer": "ipython3",
   "version": "3.12.7"
  }
 },
 "nbformat": 4,
 "nbformat_minor": 5
}
