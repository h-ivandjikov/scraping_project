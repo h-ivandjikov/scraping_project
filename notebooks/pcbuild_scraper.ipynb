{
 "cells": [
  {
   "cell_type": "markdown",
   "id": "6be7de1a-8023-4762-b4ea-f9b3b9fadd88",
   "metadata": {},
   "source": [
    "# *Скрейпване на PCBuild*"
   ]
  },
  {
   "cell_type": "markdown",
   "id": "6f58c427-dabf-4868-88ef-8b9e12e5305f",
   "metadata": {},
   "source": [
    "### *Нужни библиотеки*"
   ]
  },
  {
   "cell_type": "code",
   "execution_count": 1,
   "id": "4a2e09dc-5596-4539-a146-caa94547a770",
   "metadata": {},
   "outputs": [],
   "source": [
    "import pandas as pd\n",
    "import requests\n",
    "from bs4 import BeautifulSoup"
   ]
  },
  {
   "cell_type": "markdown",
   "id": "2f708380-a90d-444f-98ef-ef6a04fbba15",
   "metadata": {},
   "source": [
    "### *Построяване на линка*"
   ]
  },
  {
   "cell_type": "code",
   "execution_count": 2,
   "id": "496420bb-937e-4527-aea6-9658bdc2348d",
   "metadata": {},
   "outputs": [],
   "source": [
    "base_url = 'https://pcbuild.bg'\n",
    "category_url = f'/c-pc-komponenti/c-video-karti/page='"
   ]
  },
  {
   "cell_type": "markdown",
   "id": "af4990da-3188-4c55-aa44-1e24d8021679",
   "metadata": {},
   "source": [
    "### *Вземане на броя на страниците, които ще скрейпваме*"
   ]
  },
  {
   "cell_type": "code",
   "execution_count": 3,
   "id": "024848db-fddb-49b4-b080-d746e3215e46",
   "metadata": {},
   "outputs": [
    {
     "name": "stdout",
     "output_type": "stream",
     "text": [
      "10\n"
     ]
    }
   ],
   "source": [
    "headers = {'User-Agent' : \"Mozilla/5.0 (Windows NT 10.0; Win64; x64)\"}\n",
    "response = requests.get(base_url + category_url, headers = headers)\n",
    "soup = BeautifulSoup(response.text, 'lxml')\n",
    "ul_list = soup.find('ul', class_ = 'paginator list-unstyled')\n",
    "last_li = ul_list.find_all('li')[-1]\n",
    "a_tag = last_li.find('a')\n",
    "title = a_tag.get('title')\n",
    "last_page = title.strip('Страница ')\n",
    "print(last_page)"
   ]
  },
  {
   "cell_type": "markdown",
   "id": "f0db7e60-b096-445d-b29c-d88fe5880a44",
   "metadata": {},
   "source": [
    "### *Скрейпваме линковете на продуктите от всички страници*"
   ]
  },
  {
   "cell_type": "code",
   "execution_count": 4,
   "id": "7e8440dc-37ac-443b-9146-a1ff42e73b35",
   "metadata": {},
   "outputs": [
    {
     "name": "stdout",
     "output_type": "stream",
     "text": [
      "Намерени 227 броя линкове.\n"
     ]
    }
   ],
   "source": [
    "product_links = []\n",
    "page_list = list(range(1, pd.to_numeric(last_page)+1))\n",
    "\n",
    "for page in page_list:\n",
    "    target_url = f'{base_url}{category_url}{page}'\n",
    "    response = requests.get(target_url, headers = headers)\n",
    "    soup = BeautifulSoup(response.text, 'lxml')\n",
    "\n",
    "    products_div = soup.find('div', class_ = 'products-list')\n",
    "    \n",
    "    for article in products_div.find_all(\"article\", class_=\"product-item\"):\n",
    "        a_tag = article.find(\"a\", class_=\"img-container\")\n",
    "        if a_tag and a_tag.has_attr(\"href\"):\n",
    "            product_links.append(base_url + a_tag[\"href\"])\n",
    "\n",
    "print(f\"Намерени {len(product_links)} броя линкове.\")"
   ]
  },
  {
   "cell_type": "markdown",
   "id": "96bef227-83ba-4d22-b420-a0e7a8b8c40a",
   "metadata": {},
   "source": [
    "### *Обхождане на всеки намерен линк и събиране на информация от него*"
   ]
  },
  {
   "cell_type": "code",
   "execution_count": 5,
   "id": "86b6830b-c400-466f-91e0-89d81a2bf46f",
   "metadata": {},
   "outputs": [
    {
     "name": "stdout",
     "output_type": "stream",
     "text": [
      "55 SKU-та липсват от страниците на продуктите!\n"
     ]
    }
   ],
   "source": [
    "product_data = []\n",
    "missing_skus = []\n",
    "\n",
    "for url in product_links:\n",
    "    product_resp = requests.get(url, headers = headers)\n",
    "    product_soup = BeautifulSoup(product_resp.text, \"lxml\")\n",
    "\n",
    "    td = product_soup.find('td', string='Продуктов код')\n",
    "    if td:\n",
    "        code_td = td.find_next_sibling('td')\n",
    "        if code_td:\n",
    "            product_code = code_td.get_text(strip=True)\n",
    "        else:\n",
    "            missing_skus.append(url)\n",
    "            continue\n",
    "    else:\n",
    "        missing_skus.append(url)\n",
    "        continue\n",
    "\n",
    "    div_price = product_soup.find('div', class_='price')\n",
    "    price = div_price.contents[0].strip()\n",
    "    div_cents = div_price.find('span', class_ = 'cents')\n",
    "    cents = div_cents.contents[0].strip()\n",
    "\n",
    "    full_price = float(f\"{price}.{cents}\")\n",
    "\n",
    "    product_data.append({\n",
    "        'SKU' : product_code,\n",
    "        'Price_pcbuild' : full_price\n",
    "    })\n",
    "\n",
    "\n",
    "print(f\"{len(missing_skus)} SKU-та не са описани на страниците на продуктите!\")"
   ]
  },
  {
   "cell_type": "markdown",
   "id": "8ad01c41-b34d-4efd-8e7a-83e4e6898286",
   "metadata": {},
   "source": [
    "### *Създаване на DataFrame от данните*"
   ]
  },
  {
   "cell_type": "code",
   "execution_count": 6,
   "id": "1993cd38-5d37-4a09-b940-caccadd43eed",
   "metadata": {},
   "outputs": [
    {
     "data": {
      "text/html": [
       "<div>\n",
       "<style scoped>\n",
       "    .dataframe tbody tr th:only-of-type {\n",
       "        vertical-align: middle;\n",
       "    }\n",
       "\n",
       "    .dataframe tbody tr th {\n",
       "        vertical-align: top;\n",
       "    }\n",
       "\n",
       "    .dataframe thead th {\n",
       "        text-align: right;\n",
       "    }\n",
       "</style>\n",
       "<table border=\"1\" class=\"dataframe\">\n",
       "  <thead>\n",
       "    <tr style=\"text-align: right;\">\n",
       "      <th></th>\n",
       "      <th>SKU</th>\n",
       "      <th>Price_pcbuild</th>\n",
       "    </tr>\n",
       "  </thead>\n",
       "  <tbody>\n",
       "    <tr>\n",
       "      <th>0</th>\n",
       "      <td>1A1-G00425900H</td>\n",
       "      <td>1689.00</td>\n",
       "    </tr>\n",
       "    <tr>\n",
       "      <th>1</th>\n",
       "      <td>NE7507T019T2-GB2031U</td>\n",
       "      <td>1756.00</td>\n",
       "    </tr>\n",
       "    <tr>\n",
       "      <th>2</th>\n",
       "      <td>NE75060S19P1-GB2062D</td>\n",
       "      <td>675.00</td>\n",
       "    </tr>\n",
       "    <tr>\n",
       "      <th>3</th>\n",
       "      <td>NE75060S19P1-GB2063D</td>\n",
       "      <td>678.72</td>\n",
       "    </tr>\n",
       "    <tr>\n",
       "      <th>4</th>\n",
       "      <td>NE75060T19P1-GB2063S</td>\n",
       "      <td>678.72</td>\n",
       "    </tr>\n",
       "  </tbody>\n",
       "</table>\n",
       "</div>"
      ],
      "text/plain": [
       "                    SKU  Price_pcbuild\n",
       "0        1A1-G00425900H        1689.00\n",
       "1  NE7507T019T2-GB2031U        1756.00\n",
       "2  NE75060S19P1-GB2062D         675.00\n",
       "3  NE75060S19P1-GB2063D         678.72\n",
       "4  NE75060T19P1-GB2063S         678.72"
      ]
     },
     "execution_count": 6,
     "metadata": {},
     "output_type": "execute_result"
    }
   ],
   "source": [
    "df = pd.DataFrame(product_data)\n",
    "df.head()"
   ]
  },
  {
   "cell_type": "markdown",
   "id": "069457f2-a144-4290-86b6-f3f995fa525a",
   "metadata": {},
   "source": [
    "### *Записване на данните в .csv формат*"
   ]
  },
  {
   "cell_type": "code",
   "execution_count": 7,
   "id": "1bd34f73-6da8-4062-a928-9dcac5ef8df1",
   "metadata": {},
   "outputs": [],
   "source": [
    "df.to_csv('pcbuild_gpu_sku_prices.csv', index = False)"
   ]
  }
 ],
 "metadata": {
  "kernelspec": {
   "display_name": "Python [conda env:base] *",
   "language": "python",
   "name": "conda-base-py"
  },
  "language_info": {
   "codemirror_mode": {
    "name": "ipython",
    "version": 3
   },
   "file_extension": ".py",
   "mimetype": "text/x-python",
   "name": "python",
   "nbconvert_exporter": "python",
   "pygments_lexer": "ipython3",
   "version": "3.12.7"
  }
 },
 "nbformat": 4,
 "nbformat_minor": 5
}
