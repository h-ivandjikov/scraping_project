{
 "cells": [
  {
   "cell_type": "markdown",
   "id": "36afd89a-c9b4-4f1d-a0a2-e03f506c08cc",
   "metadata": {},
   "source": [
    "### *Нужни библиотеки*"
   ]
  },
  {
   "cell_type": "code",
   "execution_count": 1,
   "id": "d40ac15c-d903-4a6a-8bca-fbbbaede3d51",
   "metadata": {},
   "outputs": [],
   "source": [
    "import pandas as pd\n",
    "import matplotlib.pyplot as plt"
   ]
  },
  {
   "cell_type": "markdown",
   "id": "1eddaa9b-d20a-4ce1-b569-ac5cfbfe9d77",
   "metadata": {},
   "source": [
    "### *Зареждане на данните*"
   ]
  },
  {
   "cell_type": "code",
   "execution_count": 2,
   "id": "c1672000-e1d9-49c7-a5f7-28d4a790e195",
   "metadata": {},
   "outputs": [],
   "source": [
    "laptopbg = pd.read_csv('laptopbg_gpu_sku_prices.csv')\n",
    "ardes = pd.read_csv('ardes_gpu_sku_prices.csv')\n",
    "pcbuild = pd.read_csv('pcbuild_gpu_sku_prices.csv')"
   ]
  },
  {
   "cell_type": "markdown",
   "id": "9443fae4-dbbb-4b36-8f15-090ca8782466",
   "metadata": {},
   "source": [
    "### *Събиране на данните в един DataFrame по SKU*"
   ]
  },
  {
   "cell_type": "code",
   "execution_count": 3,
   "id": "b8eb63dd-2d60-4d18-8a57-a338a02e1512",
   "metadata": {},
   "outputs": [
    {
     "data": {
      "text/html": [
       "<div>\n",
       "<style scoped>\n",
       "    .dataframe tbody tr th:only-of-type {\n",
       "        vertical-align: middle;\n",
       "    }\n",
       "\n",
       "    .dataframe tbody tr th {\n",
       "        vertical-align: top;\n",
       "    }\n",
       "\n",
       "    .dataframe thead th {\n",
       "        text-align: right;\n",
       "    }\n",
       "</style>\n",
       "<table border=\"1\" class=\"dataframe\">\n",
       "  <thead>\n",
       "    <tr style=\"text-align: right;\">\n",
       "      <th></th>\n",
       "      <th>SKU</th>\n",
       "      <th>Price_laptopbg</th>\n",
       "      <th>Price_ardes</th>\n",
       "      <th>Price_pcbuild</th>\n",
       "    </tr>\n",
       "  </thead>\n",
       "  <tbody>\n",
       "    <tr>\n",
       "      <th>0</th>\n",
       "      <td>90YV0JC7-M0NA00</td>\n",
       "      <td>659</td>\n",
       "      <td>769</td>\n",
       "      <td>628.32</td>\n",
       "    </tr>\n",
       "    <tr>\n",
       "      <th>1</th>\n",
       "      <td>90YV0JC4-M0NA00</td>\n",
       "      <td>739</td>\n",
       "      <td>769</td>\n",
       "      <td>607.00</td>\n",
       "    </tr>\n",
       "    <tr>\n",
       "      <th>2</th>\n",
       "      <td>90YV0J49-M0NA00</td>\n",
       "      <td>879</td>\n",
       "      <td>999</td>\n",
       "      <td>800.00</td>\n",
       "    </tr>\n",
       "    <tr>\n",
       "      <th>3</th>\n",
       "      <td>90YV0MG0-M0NA00</td>\n",
       "      <td>1199</td>\n",
       "      <td>1211</td>\n",
       "      <td>1181.04</td>\n",
       "    </tr>\n",
       "    <tr>\n",
       "      <th>4</th>\n",
       "      <td>90YV0JJ1-M0NA00</td>\n",
       "      <td>1249</td>\n",
       "      <td>1349</td>\n",
       "      <td>1233.00</td>\n",
       "    </tr>\n",
       "  </tbody>\n",
       "</table>\n",
       "</div>"
      ],
      "text/plain": [
       "               SKU  Price_laptopbg  Price_ardes  Price_pcbuild\n",
       "0  90YV0JC7-M0NA00             659          769         628.32\n",
       "1  90YV0JC4-M0NA00             739          769         607.00\n",
       "2  90YV0J49-M0NA00             879          999         800.00\n",
       "3  90YV0MG0-M0NA00            1199         1211        1181.04\n",
       "4  90YV0JJ1-M0NA00            1249         1349        1233.00"
      ]
     },
     "execution_count": 3,
     "metadata": {},
     "output_type": "execute_result"
    }
   ],
   "source": [
    "df = laptopbg.merge(ardes, how = 'inner', on = 'SKU').merge(pcbuild, how = 'inner', on = 'SKU')\n",
    "df.head()"
   ]
  },
  {
   "cell_type": "markdown",
   "id": "1af4fa58-064b-4c98-bcd7-a3a2dc2c0456",
   "metadata": {},
   "source": [
    "### *Проверка на броя съвпадения*"
   ]
  },
  {
   "cell_type": "code",
   "execution_count": 4,
   "id": "0ca320bc-7d0f-4542-96fe-35c049b32118",
   "metadata": {},
   "outputs": [
    {
     "name": "stdout",
     "output_type": "stream",
     "text": [
      "Брой съвпадения: 81\n"
     ]
    }
   ],
   "source": [
    "matches = len(df)\n",
    "print(f\"Брой съвпадения: {matches}\")"
   ]
  },
  {
   "cell_type": "markdown",
   "id": "0b69dcd8-c698-415e-abcd-c41cb113c8c3",
   "metadata": {},
   "source": [
    "### *Добавяне на нова колона, показваща сайта с най-добра цена за всеки продукт*"
   ]
  },
  {
   "cell_type": "code",
   "execution_count": 5,
   "id": "5d70c430-4d16-4a51-ab37-c43cb2e0b41a",
   "metadata": {},
   "outputs": [
    {
     "data": {
      "text/html": [
       "<div>\n",
       "<style scoped>\n",
       "    .dataframe tbody tr th:only-of-type {\n",
       "        vertical-align: middle;\n",
       "    }\n",
       "\n",
       "    .dataframe tbody tr th {\n",
       "        vertical-align: top;\n",
       "    }\n",
       "\n",
       "    .dataframe thead th {\n",
       "        text-align: right;\n",
       "    }\n",
       "</style>\n",
       "<table border=\"1\" class=\"dataframe\">\n",
       "  <thead>\n",
       "    <tr style=\"text-align: right;\">\n",
       "      <th></th>\n",
       "      <th>SKU</th>\n",
       "      <th>Price_laptopbg</th>\n",
       "      <th>Price_ardes</th>\n",
       "      <th>Price_pcbuild</th>\n",
       "      <th>Cheapest</th>\n",
       "    </tr>\n",
       "  </thead>\n",
       "  <tbody>\n",
       "    <tr>\n",
       "      <th>0</th>\n",
       "      <td>90YV0JC7-M0NA00</td>\n",
       "      <td>659</td>\n",
       "      <td>769</td>\n",
       "      <td>628.32</td>\n",
       "      <td>pcbuild</td>\n",
       "    </tr>\n",
       "    <tr>\n",
       "      <th>1</th>\n",
       "      <td>90YV0JC4-M0NA00</td>\n",
       "      <td>739</td>\n",
       "      <td>769</td>\n",
       "      <td>607.00</td>\n",
       "      <td>pcbuild</td>\n",
       "    </tr>\n",
       "    <tr>\n",
       "      <th>2</th>\n",
       "      <td>90YV0J49-M0NA00</td>\n",
       "      <td>879</td>\n",
       "      <td>999</td>\n",
       "      <td>800.00</td>\n",
       "      <td>pcbuild</td>\n",
       "    </tr>\n",
       "    <tr>\n",
       "      <th>3</th>\n",
       "      <td>90YV0MG0-M0NA00</td>\n",
       "      <td>1199</td>\n",
       "      <td>1211</td>\n",
       "      <td>1181.04</td>\n",
       "      <td>pcbuild</td>\n",
       "    </tr>\n",
       "    <tr>\n",
       "      <th>4</th>\n",
       "      <td>90YV0JJ1-M0NA00</td>\n",
       "      <td>1249</td>\n",
       "      <td>1349</td>\n",
       "      <td>1233.00</td>\n",
       "      <td>pcbuild</td>\n",
       "    </tr>\n",
       "  </tbody>\n",
       "</table>\n",
       "</div>"
      ],
      "text/plain": [
       "               SKU  Price_laptopbg  Price_ardes  Price_pcbuild Cheapest\n",
       "0  90YV0JC7-M0NA00             659          769         628.32  pcbuild\n",
       "1  90YV0JC4-M0NA00             739          769         607.00  pcbuild\n",
       "2  90YV0J49-M0NA00             879          999         800.00  pcbuild\n",
       "3  90YV0MG0-M0NA00            1199         1211        1181.04  pcbuild\n",
       "4  90YV0JJ1-M0NA00            1249         1349        1233.00  pcbuild"
      ]
     },
     "execution_count": 5,
     "metadata": {},
     "output_type": "execute_result"
    }
   ],
   "source": [
    "df['Cheapest'] = df.iloc[:,1:4].idxmin(axis = 1)\n",
    "df['Cheapest'] = df['Cheapest'].str.replace('Price_', '')\n",
    "df.head()"
   ]
  },
  {
   "cell_type": "markdown",
   "id": "7e139959-2184-46ee-aea5-90b72895a034",
   "metadata": {},
   "source": [
    "### *Построяване на графика*"
   ]
  },
  {
   "cell_type": "code",
   "execution_count": 15,
   "id": "cfb36e1c-21cc-4722-b8d9-3962ef987b00",
   "metadata": {},
   "outputs": [
    {
     "data": {
      "image/png": "[encoded data removed]",
      "text/plain": [
       "<Figure size 1000x600 with 1 Axes>"
      ]
     },
     "metadata": {},
     "output_type": "display_data"
    }
   ],
   "source": [
    "cheapest_counts = df['Cheapest'].value_counts()\n",
    "fig, ax = plt.subplots(figsize=(10, 6))\n",
    "colors = ['#fb0103', '#b1092d', '#02bbf4']\n",
    "bars = ax.bar(cheapest_counts.index, cheapest_counts, \n",
    "              color=colors, \n",
    "              alpha=0.8,\n",
    "              edgecolor='white',\n",
    "              linewidth=2)\n",
    "\n",
    "for bar in bars:\n",
    "    height = bar.get_height()\n",
    "    ax.text(bar.get_x() + bar.get_width()/2., height + 0.5,\n",
    "            f'{int(height)}',\n",
    "            ha='center', va='bottom', \n",
    "            fontsize=14, fontweight='bold')\n",
    "\n",
    "ax.set_title(f'Кой сайт най-често предлага най-ниската цена\\n(от общо {matches} продукта)', \n",
    "             fontsize=18, fontweight='bold', pad=20)\n",
    "\n",
    "ax.set_ylabel('Брой пъти най-ниска цена', fontsize=14, fontweight='bold')\n",
    "ax.set_xlabel('Сайт', fontsize=14, fontweight='bold')\n",
    "\n",
    "ax.grid(axis='y', alpha=0.3, linestyle='--')\n",
    "ax.set_axisbelow(True)\n",
    "\n",
    "ax.spines['top'].set_visible(False)\n",
    "ax.spines['right'].set_visible(False)\n",
    "ax.spines['left'].set_color('grey')\n",
    "ax.spines['bottom'].set_color('grey')\n",
    "\n",
    "plt.tight_layout()\n",
    "plt.savefig('best_priced_site_chart.png', dpi=300, bbox_inches='tight')\n",
    "plt.show()"
   ]
  },
  {
   "cell_type": "markdown",
   "id": "a1019319-71bc-4c48-9a70-2bba096eb207",
   "metadata": {},
   "source": [
    "# Извод"
   ]
  },
  {
   "attachments": {
    "c31bb295-5df1-4e43-8d9f-851f696c94f2.png": {
     "image/png": "[encoded data removed]"
    }
   },
   "cell_type": "markdown",
   "id": "e01489db-0a36-4daf-86a4-00c8af6d0dde",
   "metadata": {},
   "source": [
    "Сайтът, който най-често предлага най-добрата цена за видеокарти е ... PCBuild!\n",
    "\n",
    "![image.png](attachment:c31bb295-5df1-4e43-8d9f-851f696c94f2.png)"
   ]
  }
 ],
 "metadata": {
  "kernelspec": {
   "display_name": "Python [conda env:base] *",
   "language": "python",
   "name": "conda-base-py"
  },
  "language_info": {
   "codemirror_mode": {
    "name": "ipython",
    "version": 3
   },
   "file_extension": ".py",
   "mimetype": "text/x-python",
   "name": "python",
   "nbconvert_exporter": "python",
   "pygments_lexer": "ipython3",
   "version": "3.12.7"
  }
 },
 "nbformat": 4,
 "nbformat_minor": 5
}
