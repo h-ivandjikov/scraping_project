{
 "cells": [
  {
   "cell_type": "markdown",
   "id": "95d3aa0d-ff35-447d-8e34-085cab90a86a",
   "metadata": {},
   "source": [
    "# *Скрейпване на Ardes*"
   ]
  },
  {
   "cell_type": "markdown",
   "id": "7360e5b8-4e0b-4f54-b065-1f26ff9a9f61",
   "metadata": {},
   "source": [
    "### *Нужни библиотеки*"
   ]
  },
  {
   "cell_type": "code",
   "execution_count": 61,
   "id": "d4750a09-75a3-4c8f-9413-9b347ec3ef3a",
   "metadata": {},
   "outputs": [],
   "source": [
    "import pandas as pd\n",
    "import requests\n",
    "from bs4 import BeautifulSoup"
   ]
  },
  {
   "cell_type": "markdown",
   "id": "adab72ba-3ba2-4684-9a6c-ecf8fe8c4952",
   "metadata": {},
   "source": [
    "### *Построяване на първоначалния Soup object*"
   ]
  },
  {
   "cell_type": "code",
   "execution_count": 25,
   "id": "e6265f9a-5780-4e3c-bdb2-5c7a31f34e31",
   "metadata": {},
   "outputs": [],
   "source": [
    "base_url = 'https://ardes.bg/komponenti/video-karti'\n",
    "headers = {'User-Agent' : \"Mozilla/5.0 (Windows NT 10.0; Win64; x64)\"}\n",
    "response = requests.get(base_url, headers = headers)\n",
    "soup = BeautifulSoup(response.text, 'lxml')"
   ]
  },
  {
   "cell_type": "markdown",
   "id": "fe436068-a5d3-44b2-959b-dc3826b7eb35",
   "metadata": {},
   "source": [
    "### *Вземане на броя на страниците, които ще скрейпваме*"
   ]
  },
  {
   "cell_type": "code",
   "execution_count": 54,
   "id": "e9a2c169-7dc1-457b-96a8-45f39048815d",
   "metadata": {},
   "outputs": [
    {
     "name": "stdout",
     "output_type": "stream",
     "text": [
      "10\n"
     ]
    }
   ],
   "source": [
    "pages_div = soup.find('div', class_ = 'custom one-side-gl')\n",
    "pages = int(pages_div.find('li', class_ = 'number no-margin').get_text())\n",
    "print(pages)"
   ]
  },
  {
   "cell_type": "markdown",
   "id": "b52583f1-8bed-488f-8b4c-62c272b20596",
   "metadata": {},
   "source": [
    "### *Скрейпване на всички страници и записване на информацията в list*"
   ]
  },
  {
   "cell_type": "code",
   "execution_count": 58,
   "id": "3d615d8e-0469-466e-9aa4-7721892a6165",
   "metadata": {},
   "outputs": [],
   "source": [
    "product_data = []\n",
    "for page in range(1, (pages+1)):\n",
    "    target_url = f\"{base_url}/page/{page}\"\n",
    "    response = requests.get(target_url, headers = headers)\n",
    "    soup = BeautifulSoup(response.text, 'lxml')\n",
    "    div_products = soup.find_all('div', class_ = 'product')\n",
    "    for div in div_products:\n",
    "        product_sku = div.get('data-sku')\n",
    "        span_price = div.find('span', class_ = 'price-num')\n",
    "        product_price = span_price.contents[0].strip()\n",
    "        product_data.append({'SKU' : product_sku,\n",
    "                             'Price_ardes' : product_price})"
   ]
  },
  {
   "cell_type": "markdown",
   "id": "a710f92c-0a56-41b4-a380-c27bb90f1d09",
   "metadata": {},
   "source": [
    "### Създаване на DataFrame от данните"
   ]
  },
  {
   "cell_type": "code",
   "execution_count": 59,
   "id": "4b76782c-2a7e-412b-90e1-63134cc91974",
   "metadata": {},
   "outputs": [
    {
     "data": {
      "text/html": [
       "<div>\n",
       "<style scoped>\n",
       "    .dataframe tbody tr th:only-of-type {\n",
       "        vertical-align: middle;\n",
       "    }\n",
       "\n",
       "    .dataframe tbody tr th {\n",
       "        vertical-align: top;\n",
       "    }\n",
       "\n",
       "    .dataframe thead th {\n",
       "        text-align: right;\n",
       "    }\n",
       "</style>\n",
       "<table border=\"1\" class=\"dataframe\">\n",
       "  <thead>\n",
       "    <tr style=\"text-align: right;\">\n",
       "      <th></th>\n",
       "      <th>SKU</th>\n",
       "      <th>Price_ardes</th>\n",
       "    </tr>\n",
       "  </thead>\n",
       "  <tbody>\n",
       "    <tr>\n",
       "      <th>0</th>\n",
       "      <td>N50703-12D7X-195064L</td>\n",
       "      <td>1299</td>\n",
       "    </tr>\n",
       "    <tr>\n",
       "      <th>1</th>\n",
       "      <td>90-GA2RZZ-00UANF</td>\n",
       "      <td>449</td>\n",
       "    </tr>\n",
       "    <tr>\n",
       "      <th>2</th>\n",
       "      <td>11349-03-20G</td>\n",
       "      <td>1299</td>\n",
       "    </tr>\n",
       "    <tr>\n",
       "      <th>3</th>\n",
       "      <td>912-V516-208</td>\n",
       "      <td>709</td>\n",
       "    </tr>\n",
       "    <tr>\n",
       "      <th>4</th>\n",
       "      <td>N50602-08D7-195071N</td>\n",
       "      <td>679</td>\n",
       "    </tr>\n",
       "    <tr>\n",
       "      <th>5</th>\n",
       "      <td>RX 7600 8G-F</td>\n",
       "      <td>579</td>\n",
       "    </tr>\n",
       "    <tr>\n",
       "      <th>6</th>\n",
       "      <td>NE64060019P1-1070L</td>\n",
       "      <td>699</td>\n",
       "    </tr>\n",
       "    <tr>\n",
       "      <th>7</th>\n",
       "      <td>N50803-16D7X-17603930</td>\n",
       "      <td>2649</td>\n",
       "    </tr>\n",
       "    <tr>\n",
       "      <th>8</th>\n",
       "      <td>11350-03-20G</td>\n",
       "      <td>849</td>\n",
       "    </tr>\n",
       "    <tr>\n",
       "      <th>9</th>\n",
       "      <td>GV-N1030D4-2GL</td>\n",
       "      <td>178</td>\n",
       "    </tr>\n",
       "  </tbody>\n",
       "</table>\n",
       "</div>"
      ],
      "text/plain": [
       "                     SKU Price_ardes\n",
       "0   N50703-12D7X-195064L        1299\n",
       "1       90-GA2RZZ-00UANF         449\n",
       "2           11349-03-20G        1299\n",
       "3           912-V516-208         709\n",
       "4    N50602-08D7-195071N         679\n",
       "5           RX 7600 8G-F         579\n",
       "6     NE64060019P1-1070L         699\n",
       "7  N50803-16D7X-17603930        2649\n",
       "8           11350-03-20G         849\n",
       "9         GV-N1030D4-2GL         178"
      ]
     },
     "execution_count": 59,
     "metadata": {},
     "output_type": "execute_result"
    }
   ],
   "source": [
    "df = pd.DataFrame(product_data)\n",
    "df.head(10)"
   ]
  },
  {
   "cell_type": "markdown",
   "id": "64f4d878-0244-438e-8345-621e24052d7c",
   "metadata": {},
   "source": [
    "### *Записване на данните в .csv формат*"
   ]
  },
  {
   "cell_type": "code",
   "execution_count": 60,
   "id": "b2c5a2e3-180d-475f-bb8e-146802999106",
   "metadata": {},
   "outputs": [],
   "source": [
    "df.to_csv('ardes_gpu_sku_prices.csv', index = False)"
   ]
  }
 ],
 "metadata": {
  "kernelspec": {
   "display_name": "Python [conda env:base] *",
   "language": "python",
   "name": "conda-base-py"
  },
  "language_info": {
   "codemirror_mode": {
    "name": "ipython",
    "version": 3
   },
   "file_extension": ".py",
   "mimetype": "text/x-python",
   "name": "python",
   "nbconvert_exporter": "python",
   "pygments_lexer": "ipython3",
   "version": "3.12.7"
  }
 },
 "nbformat": 4,
 "nbformat_minor": 5
}
